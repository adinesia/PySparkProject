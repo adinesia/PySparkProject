{
  "nbformat": 4,
  "nbformat_minor": 0,
  "metadata": {
    "colab": {
      "name": "Pyspark_Titanic.ipynb",
      "provenance": [],
      "authorship_tag": "ABX9TyMhZZfHnYWcOAEieVnO8JpR",
      "include_colab_link": true
    },
    "kernelspec": {
      "name": "python3",
      "display_name": "Python 3"
    }
  },
  "cells": [
    {
      "cell_type": "markdown",
      "metadata": {
        "id": "view-in-github",
        "colab_type": "text"
      },
      "source": [
        "<a href=\"https://colab.research.google.com/github/adinesia/PySparkProject/blob/main/Pyspark_Titanic.ipynb\" target=\"_parent\"><img src=\"https://colab.research.google.com/assets/colab-badge.svg\" alt=\"Open In Colab\"/></a>"
      ]
    },
    {
      "cell_type": "code",
      "metadata": {
        "id": "6vM-EV6W4BJH",
        "colab": {
          "base_uri": "https://localhost:8080/"
        },
        "outputId": "5d6eb587-0309-43f5-fdb5-7453c13a27b8"
      },
      "source": [
        "# Installing pyspark on colab\n",
        "!pip install pyspark"
      ],
      "execution_count": 1,
      "outputs": [
        {
          "output_type": "stream",
          "text": [
            "Collecting pyspark\n",
            "\u001b[?25l  Downloading https://files.pythonhosted.org/packages/89/db/e18cfd78e408de957821ec5ca56de1250645b05f8523d169803d8df35a64/pyspark-3.1.2.tar.gz (212.4MB)\n",
            "\u001b[K     |████████████████████████████████| 212.4MB 66kB/s \n",
            "\u001b[?25hCollecting py4j==0.10.9\n",
            "\u001b[?25l  Downloading https://files.pythonhosted.org/packages/9e/b6/6a4fb90cd235dc8e265a6a2067f2a2c99f0d91787f06aca4bcf7c23f3f80/py4j-0.10.9-py2.py3-none-any.whl (198kB)\n",
            "\u001b[K     |████████████████████████████████| 204kB 15.4MB/s \n",
            "\u001b[?25hBuilding wheels for collected packages: pyspark\n",
            "  Building wheel for pyspark (setup.py) ... \u001b[?25l\u001b[?25hdone\n",
            "  Created wheel for pyspark: filename=pyspark-3.1.2-py2.py3-none-any.whl size=212880768 sha256=8b697d466bebb9157cca475edbe04cb2ec5fbcd6e59e364a198052fe02f51aea\n",
            "  Stored in directory: /root/.cache/pip/wheels/40/1b/2c/30f43be2627857ab80062bef1527c0128f7b4070b6b2d02139\n",
            "Successfully built pyspark\n",
            "Installing collected packages: py4j, pyspark\n",
            "Successfully installed py4j-0.10.9 pyspark-3.1.2\n"
          ],
          "name": "stdout"
        }
      ]
    },
    {
      "cell_type": "code",
      "metadata": {
        "id": "U80wR8JI9yqX"
      },
      "source": [
        "# Import libraries\n",
        "import numpy as np # linear algebra\n",
        "import pandas as pd # data processing, CSV file I/O (e.g. pd.read_csv)\n",
        "import matplotlib.pyplot as plt\n",
        "import seaborn as sns\n",
        "import sklearn\n",
        "import random\n",
        "import os\n",
        "\n",
        "from pyspark.sql import SparkSession \n",
        "from pyspark.ml  import Pipeline     \n",
        "from pyspark.sql import SQLContext  \n",
        "from pyspark.sql.functions import mean,col,split, col, regexp_extract, when, lit\n",
        "from pyspark.ml.feature import StringIndexer, VectorAssembler\n",
        "from pyspark.ml.evaluation import MulticlassClassificationEvaluator\n",
        "from pyspark.ml.feature import QuantileDiscretizer"
      ],
      "execution_count": 2,
      "outputs": []
    },
    {
      "cell_type": "code",
      "metadata": {
        "colab": {
          "base_uri": "https://localhost:8080/"
        },
        "id": "fRiGpK-xzMYM",
        "outputId": "2153f3cf-c5dc-43ee-c021-d338f99995d1"
      },
      "source": [
        "#Download dataset from github to colab\n",
        "! git clone --recursive https://github.com/ashwanidv100/Kaggle--Data-Science-Problems/"
      ],
      "execution_count": 3,
      "outputs": [
        {
          "output_type": "stream",
          "text": [
            "Cloning into 'Kaggle--Data-Science-Problems'...\n",
            "remote: Enumerating objects: 70, done.\u001b[K\n",
            "remote: Total 70 (delta 0), reused 0 (delta 0), pack-reused 70\u001b[K\n",
            "Unpacking objects: 100% (70/70), done.\n"
          ],
          "name": "stdout"
        }
      ]
    },
    {
      "cell_type": "code",
      "metadata": {
        "id": "tMs-9coK4ohM"
      },
      "source": [
        "# create sparkSession (like a container)\n",
        "spark = SparkSession.builder.appName('Play with pyspark ML on titatic_dataset').getOrCreate()\n",
        "# After creating spark, we use spark.read.csv to read dataset, like pandas.read_csv\n",
        "df = spark.read.csv('/content/Kaggle--Data-Science-Problems/Problem Titanic- Machine Learning from Disaster/Datasets/train.csv',header = 'True',inferSchema='True')"
      ],
      "execution_count": 4,
      "outputs": []
    },
    {
      "cell_type": "code",
      "metadata": {
        "colab": {
          "base_uri": "https://localhost:8080/",
          "height": 175
        },
        "id": "qwXFpbKrzX0S",
        "outputId": "8ac50b35-49c5-4e60-f515-99223466b673"
      },
      "source": [
        "df.limit(3).toPandas()"
      ],
      "execution_count": 5,
      "outputs": [
        {
          "output_type": "execute_result",
          "data": {
            "text/html": [
              "<div>\n",
              "<style scoped>\n",
              "    .dataframe tbody tr th:only-of-type {\n",
              "        vertical-align: middle;\n",
              "    }\n",
              "\n",
              "    .dataframe tbody tr th {\n",
              "        vertical-align: top;\n",
              "    }\n",
              "\n",
              "    .dataframe thead th {\n",
              "        text-align: right;\n",
              "    }\n",
              "</style>\n",
              "<table border=\"1\" class=\"dataframe\">\n",
              "  <thead>\n",
              "    <tr style=\"text-align: right;\">\n",
              "      <th></th>\n",
              "      <th>PassengerId</th>\n",
              "      <th>Survived</th>\n",
              "      <th>Pclass</th>\n",
              "      <th>Name</th>\n",
              "      <th>Sex</th>\n",
              "      <th>Age</th>\n",
              "      <th>SibSp</th>\n",
              "      <th>Parch</th>\n",
              "      <th>Ticket</th>\n",
              "      <th>Fare</th>\n",
              "      <th>Cabin</th>\n",
              "      <th>Embarked</th>\n",
              "    </tr>\n",
              "  </thead>\n",
              "  <tbody>\n",
              "    <tr>\n",
              "      <th>0</th>\n",
              "      <td>1</td>\n",
              "      <td>0</td>\n",
              "      <td>3</td>\n",
              "      <td>Braund, Mr. Owen Harris</td>\n",
              "      <td>male</td>\n",
              "      <td>22.0</td>\n",
              "      <td>1</td>\n",
              "      <td>0</td>\n",
              "      <td>A/5 21171</td>\n",
              "      <td>7.2500</td>\n",
              "      <td>None</td>\n",
              "      <td>S</td>\n",
              "    </tr>\n",
              "    <tr>\n",
              "      <th>1</th>\n",
              "      <td>2</td>\n",
              "      <td>1</td>\n",
              "      <td>1</td>\n",
              "      <td>Cumings, Mrs. John Bradley (Florence Briggs Th...</td>\n",
              "      <td>female</td>\n",
              "      <td>38.0</td>\n",
              "      <td>1</td>\n",
              "      <td>0</td>\n",
              "      <td>PC 17599</td>\n",
              "      <td>71.2833</td>\n",
              "      <td>C85</td>\n",
              "      <td>C</td>\n",
              "    </tr>\n",
              "    <tr>\n",
              "      <th>2</th>\n",
              "      <td>3</td>\n",
              "      <td>1</td>\n",
              "      <td>3</td>\n",
              "      <td>Heikkinen, Miss. Laina</td>\n",
              "      <td>female</td>\n",
              "      <td>26.0</td>\n",
              "      <td>0</td>\n",
              "      <td>0</td>\n",
              "      <td>STON/O2. 3101282</td>\n",
              "      <td>7.9250</td>\n",
              "      <td>None</td>\n",
              "      <td>S</td>\n",
              "    </tr>\n",
              "  </tbody>\n",
              "</table>\n",
              "</div>"
            ],
            "text/plain": [
              "   PassengerId  Survived  Pclass  ...     Fare Cabin  Embarked\n",
              "0            1         0       3  ...   7.2500  None         S\n",
              "1            2         1       1  ...  71.2833   C85         C\n",
              "2            3         1       3  ...   7.9250  None         S\n",
              "\n",
              "[3 rows x 12 columns]"
            ]
          },
          "metadata": {
            "tags": []
          },
          "execution_count": 5
        }
      ]
    },
    {
      "cell_type": "code",
      "metadata": {
        "id": "ODy9VA_K-J7X",
        "colab": {
          "base_uri": "https://localhost:8080/"
        },
        "outputId": "1c9aab24-a074-4f10-8857-a911c6e3a982"
      },
      "source": [
        "df.printSchema()"
      ],
      "execution_count": 6,
      "outputs": [
        {
          "output_type": "stream",
          "text": [
            "root\n",
            " |-- PassengerId: integer (nullable = true)\n",
            " |-- Survived: integer (nullable = true)\n",
            " |-- Pclass: integer (nullable = true)\n",
            " |-- Name: string (nullable = true)\n",
            " |-- Sex: string (nullable = true)\n",
            " |-- Age: double (nullable = true)\n",
            " |-- SibSp: integer (nullable = true)\n",
            " |-- Parch: integer (nullable = true)\n",
            " |-- Ticket: string (nullable = true)\n",
            " |-- Fare: double (nullable = true)\n",
            " |-- Cabin: string (nullable = true)\n",
            " |-- Embarked: string (nullable = true)\n",
            "\n"
          ],
          "name": "stdout"
        }
      ]
    },
    {
      "cell_type": "code",
      "metadata": {
        "id": "4BUqxavrdei1",
        "colab": {
          "base_uri": "https://localhost:8080/"
        },
        "outputId": "3115adb1-e1f9-4948-cf6c-cd876e58f741"
      },
      "source": [
        "df.groupBy('Embarked').count().show()"
      ],
      "execution_count": 7,
      "outputs": [
        {
          "output_type": "stream",
          "text": [
            "+--------+-----+\n",
            "|Embarked|count|\n",
            "+--------+-----+\n",
            "|       Q|   77|\n",
            "|    null|    2|\n",
            "|       C|  168|\n",
            "|       S|  644|\n",
            "+--------+-----+\n",
            "\n"
          ],
          "name": "stdout"
        }
      ]
    },
    {
      "cell_type": "markdown",
      "metadata": {
        "id": "-VUSrHA3-dcu"
      },
      "source": [
        "For visualization, SparkDataframe need to convert to PandasDataFrame"
      ]
    },
    {
      "cell_type": "code",
      "metadata": {
        "id": "x7Y9z9MU-QC1",
        "colab": {
          "base_uri": "https://localhost:8080/",
          "height": 367
        },
        "outputId": "d4b20e36-cf07-4db2-ae83-5909d48f85a7"
      },
      "source": [
        "pandas_df = df.toPandas()\n",
        "\n",
        "plt.figure(figsize=(8,4))\n",
        "plt.title(\"Age distribution among all passnger\")\n",
        "sns.distplot(pandas_df.Age)"
      ],
      "execution_count": 8,
      "outputs": [
        {
          "output_type": "stream",
          "text": [
            "/usr/local/lib/python3.7/dist-packages/seaborn/distributions.py:2557: FutureWarning: `distplot` is a deprecated function and will be removed in a future version. Please adapt your code to use either `displot` (a figure-level function with similar flexibility) or `histplot` (an axes-level function for histograms).\n",
            "  warnings.warn(msg, FutureWarning)\n"
          ],
          "name": "stderr"
        },
        {
          "output_type": "execute_result",
          "data": {
            "text/plain": [
              "<matplotlib.axes._subplots.AxesSubplot at 0x7fc3b99ce510>"
            ]
          },
          "metadata": {
            "tags": []
          },
          "execution_count": 8
        },
        {
          "output_type": "display_data",
          "data": {
            "image/png": "[encoded data removed]",
            "text/plain": [
              "<Figure size 576x288 with 1 Axes>"
            ]
          },
          "metadata": {
            "tags": [],
            "needs_background": "light"
          }
        }
      ]
    },
    {
      "cell_type": "code",
      "metadata": {
        "id": "KNXZ79BU2Lqp"
      },
      "source": [
        "# Function to check null and nan\n",
        "import pyspark.sql.functions as F\n",
        "def count_missings(spark_df,sort=True):\n",
        "    \"\"\"\n",
        "    Counts number of nulls and nans in each column\n",
        "    \"\"\"\n",
        "    df = spark_df.select([F.count(F.when(F.isnan(c) | F.isnull(c), c)).alias(c) for (c,c_type) in spark_df.dtypes if c_type not in ('timestamp', 'date')]).toPandas()\n",
        "\n",
        "    if len(df) == 0:\n",
        "        print(\"There are no any missing values!\")\n",
        "        return None\n",
        "\n",
        "    if sort:\n",
        "        return df.rename(index={0: 'count'}).T.sort_values(\"count\",ascending=False)\n",
        "\n",
        "    return df"
      ],
      "execution_count": 9,
      "outputs": []
    },
    {
      "cell_type": "code",
      "metadata": {
        "id": "FAzRtpzT3L4m",
        "colab": {
          "base_uri": "https://localhost:8080/",
          "height": 417
        },
        "outputId": "734c65e6-a2b0-4c68-a23f-8e1971f71ffb"
      },
      "source": [
        "count_missings(df)"
      ],
      "execution_count": 10,
      "outputs": [
        {
          "output_type": "execute_result",
          "data": {
            "text/html": [
              "<div>\n",
              "<style scoped>\n",
              "    .dataframe tbody tr th:only-of-type {\n",
              "        vertical-align: middle;\n",
              "    }\n",
              "\n",
              "    .dataframe tbody tr th {\n",
              "        vertical-align: top;\n",
              "    }\n",
              "\n",
              "    .dataframe thead th {\n",
              "        text-align: right;\n",
              "    }\n",
              "</style>\n",
              "<table border=\"1\" class=\"dataframe\">\n",
              "  <thead>\n",
              "    <tr style=\"text-align: right;\">\n",
              "      <th></th>\n",
              "      <th>count</th>\n",
              "    </tr>\n",
              "  </thead>\n",
              "  <tbody>\n",
              "    <tr>\n",
              "      <th>Cabin</th>\n",
              "      <td>687</td>\n",
              "    </tr>\n",
              "    <tr>\n",
              "      <th>Age</th>\n",
              "      <td>177</td>\n",
              "    </tr>\n",
              "    <tr>\n",
              "      <th>Embarked</th>\n",
              "      <td>2</td>\n",
              "    </tr>\n",
              "    <tr>\n",
              "      <th>PassengerId</th>\n",
              "      <td>0</td>\n",
              "    </tr>\n",
              "    <tr>\n",
              "      <th>Survived</th>\n",
              "      <td>0</td>\n",
              "    </tr>\n",
              "    <tr>\n",
              "      <th>Pclass</th>\n",
              "      <td>0</td>\n",
              "    </tr>\n",
              "    <tr>\n",
              "      <th>Name</th>\n",
              "      <td>0</td>\n",
              "    </tr>\n",
              "    <tr>\n",
              "      <th>Sex</th>\n",
              "      <td>0</td>\n",
              "    </tr>\n",
              "    <tr>\n",
              "      <th>SibSp</th>\n",
              "      <td>0</td>\n",
              "    </tr>\n",
              "    <tr>\n",
              "      <th>Parch</th>\n",
              "      <td>0</td>\n",
              "    </tr>\n",
              "    <tr>\n",
              "      <th>Ticket</th>\n",
              "      <td>0</td>\n",
              "    </tr>\n",
              "    <tr>\n",
              "      <th>Fare</th>\n",
              "      <td>0</td>\n",
              "    </tr>\n",
              "  </tbody>\n",
              "</table>\n",
              "</div>"
            ],
            "text/plain": [
              "             count\n",
              "Cabin          687\n",
              "Age            177\n",
              "Embarked         2\n",
              "PassengerId      0\n",
              "Survived         0\n",
              "Pclass           0\n",
              "Name             0\n",
              "Sex              0\n",
              "SibSp            0\n",
              "Parch            0\n",
              "Ticket           0\n",
              "Fare             0"
            ]
          },
          "metadata": {
            "tags": []
          },
          "execution_count": 10
        }
      ]
    },
    {
      "cell_type": "code",
      "metadata": {
        "id": "uQAfYCS--1Pp",
        "colab": {
          "base_uri": "https://localhost:8080/"
        },
        "outputId": "c41c7c37-7ebb-4ec9-cc3a-99eea6b7a1f1"
      },
      "source": [
        "from pyspark.sql.functions import isnan, when, count, col\n",
        "df.select([count(when(isnan(c) | col(c).isNull(), c)).alias(c) for c in df.columns]).show()"
      ],
      "execution_count": 11,
      "outputs": [
        {
          "output_type": "stream",
          "text": [
            "+-----------+--------+------+----+---+---+-----+-----+------+----+-----+--------+\n",
            "|PassengerId|Survived|Pclass|Name|Sex|Age|SibSp|Parch|Ticket|Fare|Cabin|Embarked|\n",
            "+-----------+--------+------+----+---+---+-----+-----+------+----+-----+--------+\n",
            "|          0|       0|     0|   0|  0|177|    0|    0|     0|   0|  687|       2|\n",
            "+-----------+--------+------+----+---+---+-----+-----+------+----+-----+--------+\n",
            "\n"
          ],
          "name": "stdout"
        }
      ]
    },
    {
      "cell_type": "code",
      "metadata": {
        "id": "cdKggsx2_3UE"
      },
      "source": [
        "# Because Cabin column has a lot missing value ( > 50%) so we can remove it\n",
        "df = df.drop(\"Cabin\")"
      ],
      "execution_count": 12,
      "outputs": []
    },
    {
      "cell_type": "code",
      "metadata": {
        "id": "0hwDfhZkAL40",
        "colab": {
          "base_uri": "https://localhost:8080/",
          "height": 206
        },
        "outputId": "838141b6-ea12-4c55-8d64-e74ef00b16a2"
      },
      "source": [
        "df = df.withColumn(\"Initial\", regexp_extract(col('Name'), \"([A-Za-z]+)\\.\",1))\n",
        "df.limit(4).toPandas()"
      ],
      "execution_count": 13,
      "outputs": [
        {
          "output_type": "execute_result",
          "data": {
            "text/html": [
              "<div>\n",
              "<style scoped>\n",
              "    .dataframe tbody tr th:only-of-type {\n",
              "        vertical-align: middle;\n",
              "    }\n",
              "\n",
              "    .dataframe tbody tr th {\n",
              "        vertical-align: top;\n",
              "    }\n",
              "\n",
              "    .dataframe thead th {\n",
              "        text-align: right;\n",
              "    }\n",
              "</style>\n",
              "<table border=\"1\" class=\"dataframe\">\n",
              "  <thead>\n",
              "    <tr style=\"text-align: right;\">\n",
              "      <th></th>\n",
              "      <th>PassengerId</th>\n",
              "      <th>Survived</th>\n",
              "      <th>Pclass</th>\n",
              "      <th>Name</th>\n",
              "      <th>Sex</th>\n",
              "      <th>Age</th>\n",
              "      <th>SibSp</th>\n",
              "      <th>Parch</th>\n",
              "      <th>Ticket</th>\n",
              "      <th>Fare</th>\n",
              "      <th>Embarked</th>\n",
              "      <th>Initial</th>\n",
              "    </tr>\n",
              "  </thead>\n",
              "  <tbody>\n",
              "    <tr>\n",
              "      <th>0</th>\n",
              "      <td>1</td>\n",
              "      <td>0</td>\n",
              "      <td>3</td>\n",
              "      <td>Braund, Mr. Owen Harris</td>\n",
              "      <td>male</td>\n",
              "      <td>22.0</td>\n",
              "      <td>1</td>\n",
              "      <td>0</td>\n",
              "      <td>A/5 21171</td>\n",
              "      <td>7.2500</td>\n",
              "      <td>S</td>\n",
              "      <td>Mr</td>\n",
              "    </tr>\n",
              "    <tr>\n",
              "      <th>1</th>\n",
              "      <td>2</td>\n",
              "      <td>1</td>\n",
              "      <td>1</td>\n",
              "      <td>Cumings, Mrs. John Bradley (Florence Briggs Th...</td>\n",
              "      <td>female</td>\n",
              "      <td>38.0</td>\n",
              "      <td>1</td>\n",
              "      <td>0</td>\n",
              "      <td>PC 17599</td>\n",
              "      <td>71.2833</td>\n",
              "      <td>C</td>\n",
              "      <td>Mrs</td>\n",
              "    </tr>\n",
              "    <tr>\n",
              "      <th>2</th>\n",
              "      <td>3</td>\n",
              "      <td>1</td>\n",
              "      <td>3</td>\n",
              "      <td>Heikkinen, Miss. Laina</td>\n",
              "      <td>female</td>\n",
              "      <td>26.0</td>\n",
              "      <td>0</td>\n",
              "      <td>0</td>\n",
              "      <td>STON/O2. 3101282</td>\n",
              "      <td>7.9250</td>\n",
              "      <td>S</td>\n",
              "      <td>Miss</td>\n",
              "    </tr>\n",
              "    <tr>\n",
              "      <th>3</th>\n",
              "      <td>4</td>\n",
              "      <td>1</td>\n",
              "      <td>1</td>\n",
              "      <td>Futrelle, Mrs. Jacques Heath (Lily May Peel)</td>\n",
              "      <td>female</td>\n",
              "      <td>35.0</td>\n",
              "      <td>1</td>\n",
              "      <td>0</td>\n",
              "      <td>113803</td>\n",
              "      <td>53.1000</td>\n",
              "      <td>S</td>\n",
              "      <td>Mrs</td>\n",
              "    </tr>\n",
              "  </tbody>\n",
              "</table>\n",
              "</div>"
            ],
            "text/plain": [
              "   PassengerId  Survived  Pclass  ...     Fare Embarked  Initial\n",
              "0            1         0       3  ...   7.2500        S       Mr\n",
              "1            2         1       1  ...  71.2833        C      Mrs\n",
              "2            3         1       3  ...   7.9250        S     Miss\n",
              "3            4         1       1  ...  53.1000        S      Mrs\n",
              "\n",
              "[4 rows x 12 columns]"
            ]
          },
          "metadata": {
            "tags": []
          },
          "execution_count": 13
        }
      ]
    },
    {
      "cell_type": "code",
      "metadata": {
        "id": "UpWQ2W9aFr77"
      },
      "source": [
        "# There are some misspelled Initials like Mlle or Mme that stand for Miss. we will replace them with Miss and same thing for other values.\n",
        "df = df.replace(['Mlle','Mme', 'Ms', 'Dr','Major','Lady','Countess','Jonkheer','Col','Rev','Capt','Sir','Don'],\n",
        "                        ['Miss','Miss','Miss','Mr','Mr',  'Mrs',  'Mrs',  'Other',  'Other','Other','Mr','Mr','Mr'])"
      ],
      "execution_count": 14,
      "outputs": []
    },
    {
      "cell_type": "code",
      "metadata": {
        "id": "UUqGs9cYGBaV",
        "colab": {
          "base_uri": "https://localhost:8080/"
        },
        "outputId": "537c942b-b97c-4c8b-e923-6bc594780b8e"
      },
      "source": [
        "# Checking the average age by Initials\n",
        "df.groupby('Initial').avg('Age').collect()"
      ],
      "execution_count": 15,
      "outputs": [
        {
          "output_type": "execute_result",
          "data": {
            "text/plain": [
              "[Row(Initial='Miss', avg(Age)=21.86),\n",
              " Row(Initial='Other', avg(Age)=45.888888888888886),\n",
              " Row(Initial='Master', avg(Age)=4.574166666666667),\n",
              " Row(Initial='Mr', avg(Age)=32.73960880195599),\n",
              " Row(Initial='Mrs', avg(Age)=35.981818181818184)]"
            ]
          },
          "metadata": {
            "tags": []
          },
          "execution_count": 15
        }
      ]
    },
    {
      "cell_type": "code",
      "metadata": {
        "id": "m3UFKHqqGFeF"
      },
      "source": [
        "df = df.withColumn(\"Age\", when((df[\"Initial\"] == \"Miss\") & (df[\"Age\"].isNull()),22).otherwise(df[\"Age\"]))\n",
        "df = df.withColumn(\"Age\", when((df[\"Initial\"] == \"Other\") & (df[\"Age\"].isNull()), 46).otherwise(df[\"Age\"]))\n",
        "df = df.withColumn(\"Age\",when((df[\"Initial\"] == \"Master\")  & (df[\"Age\"].isNull()), 5).otherwise(df[\"Age\"]))\n",
        "df = df.withColumn(\"Age\",when((df[\"Initial\"] == \"Mr\")  & (df[\"Age\"].isNull()), 33).otherwise(df[\"Age\"]))\n",
        "df = df.withColumn(\"Age\",when((df[\"Initial\"] == \"Mrs\")  & (df[\"Age\"].isNull()), 46).otherwise(df[\"Age\"]))"
      ],
      "execution_count": 16,
      "outputs": []
    },
    {
      "cell_type": "code",
      "metadata": {
        "id": "8DMWSvU7eF8b",
        "colab": {
          "base_uri": "https://localhost:8080/"
        },
        "outputId": "1bd0291e-bb70-48c2-ac86-a5399bc13c65"
      },
      "source": [
        "df.select([count(when(isnan(c) | col(c).isNull(), c)).alias(c) for c in df.columns]).show()"
      ],
      "execution_count": 17,
      "outputs": [
        {
          "output_type": "stream",
          "text": [
            "+-----------+--------+------+----+---+---+-----+-----+------+----+--------+-------+\n",
            "|PassengerId|Survived|Pclass|Name|Sex|Age|SibSp|Parch|Ticket|Fare|Embarked|Initial|\n",
            "+-----------+--------+------+----+---+---+-----+-----+------+----+--------+-------+\n",
            "|          0|       0|     0|   0|  0|  0|    0|    0|     0|   0|       2|      0|\n",
            "+-----------+--------+------+----+---+---+-----+-----+------+----+--------+-------+\n",
            "\n"
          ],
          "name": "stdout"
        }
      ]
    },
    {
      "cell_type": "code",
      "metadata": {
        "id": "ul-KixZveTBv",
        "colab": {
          "base_uri": "https://localhost:8080/"
        },
        "outputId": "abc9165a-85be-4659-d021-dcb18fc5653b"
      },
      "source": [
        "# Embarked columns has two missing values, let check it\n",
        "df.groupBy(\"Embarked\").count().show()"
      ],
      "execution_count": 18,
      "outputs": [
        {
          "output_type": "stream",
          "text": [
            "+--------+-----+\n",
            "|Embarked|count|\n",
            "+--------+-----+\n",
            "|       Q|   77|\n",
            "|    null|    2|\n",
            "|       C|  168|\n",
            "|       S|  644|\n",
            "+--------+-----+\n",
            "\n"
          ],
          "name": "stdout"
        }
      ]
    },
    {
      "cell_type": "code",
      "metadata": {
        "id": "jbLDDGLberFE",
        "colab": {
          "base_uri": "https://localhost:8080/"
        },
        "outputId": "43911d59-054f-4439-fb21-71d9ba7cdb40"
      },
      "source": [
        "# As we can see, Majority Passengers boarded from \"S\". We can assign missing value with \"S\"\n",
        "df = df.na.fill({\"Embarked\":'S'})\n",
        "# Check again the missing value status\n",
        "df.select([count(when(isnan(x) | col(x).isNull(),x)).alias(x) for x in df.columns]).show()"
      ],
      "execution_count": 19,
      "outputs": [
        {
          "output_type": "stream",
          "text": [
            "+-----------+--------+------+----+---+---+-----+-----+------+----+--------+-------+\n",
            "|PassengerId|Survived|Pclass|Name|Sex|Age|SibSp|Parch|Ticket|Fare|Embarked|Initial|\n",
            "+-----------+--------+------+----+---+---+-----+-----+------+----+--------+-------+\n",
            "|          0|       0|     0|   0|  0|  0|    0|    0|     0|   0|       0|      0|\n",
            "+-----------+--------+------+----+---+---+-----+-----+------+----+--------+-------+\n",
            "\n"
          ],
          "name": "stdout"
        }
      ]
    },
    {
      "cell_type": "markdown",
      "metadata": {
        "id": "o3hDiVlFf_Fd"
      },
      "source": [
        "After handling missing values, we do some simple feature engineering\n",
        "\n",
        "\n",
        "in Feature engineering, we can use Pyspark multiple condition with syntax: \"When otherwise\""
      ]
    },
    {
      "cell_type": "code",
      "metadata": {
        "id": "7UP-pKpGfkm1"
      },
      "source": [
        "df = df.withColumn(\"famili_size\", col('SibSp')+col('Parch')) # create new column: family_size\n",
        "df = df.withColumn('Alone', lit(0)) # create new column: Alone and assign 0 as defoult value\n",
        "df = df.withColumn('Alone', when(df['famili_size'] == 0,1).otherwise(df['Alone']))"
      ],
      "execution_count": 20,
      "outputs": []
    },
    {
      "cell_type": "code",
      "metadata": {
        "id": "6y_7q8Ml-WAm"
      },
      "source": [
        "# converting sex, Embarked & Initial columns from string to number using StringIndexer\n",
        "indexers = [StringIndexer(inputCol=column, outputCol=column+\"_index\").fit(df) for column in [\"Sex\",\"Embarked\",\"Initial\"]]\n",
        "pipeline = Pipeline(stages=indexers)\n",
        "df = pipeline.fit(df).transform(df)"
      ],
      "execution_count": 21,
      "outputs": []
    },
    {
      "cell_type": "code",
      "metadata": {
        "id": "pb4UHexl_jE-",
        "colab": {
          "base_uri": "https://localhost:8080/",
          "height": 434
        },
        "outputId": "a5ca3892-2ece-455f-d2bc-3f0ae0c444a2"
      },
      "source": [
        "df.limit(4).toPandas()"
      ],
      "execution_count": 22,
      "outputs": [
        {
          "output_type": "execute_result",
          "data": {
            "text/html": [
              "<div>\n",
              "<style scoped>\n",
              "    .dataframe tbody tr th:only-of-type {\n",
              "        vertical-align: middle;\n",
              "    }\n",
              "\n",
              "    .dataframe tbody tr th {\n",
              "        vertical-align: top;\n",
              "    }\n",
              "\n",
              "    .dataframe thead th {\n",
              "        text-align: right;\n",
              "    }\n",
              "</style>\n",
              "<table border=\"1\" class=\"dataframe\">\n",
              "  <thead>\n",
              "    <tr style=\"text-align: right;\">\n",
              "      <th></th>\n",
              "      <th>PassengerId</th>\n",
              "      <th>Survived</th>\n",
              "      <th>Pclass</th>\n",
              "      <th>Name</th>\n",
              "      <th>Sex</th>\n",
              "      <th>Age</th>\n",
              "      <th>SibSp</th>\n",
              "      <th>Parch</th>\n",
              "      <th>Ticket</th>\n",
              "      <th>Fare</th>\n",
              "      <th>Embarked</th>\n",
              "      <th>Initial</th>\n",
              "      <th>famili_size</th>\n",
              "      <th>Alone</th>\n",
              "      <th>Sex_index</th>\n",
              "      <th>Embarked_index</th>\n",
              "      <th>Initial_index</th>\n",
              "    </tr>\n",
              "  </thead>\n",
              "  <tbody>\n",
              "    <tr>\n",
              "      <th>0</th>\n",
              "      <td>1</td>\n",
              "      <td>0</td>\n",
              "      <td>3</td>\n",
              "      <td>Braund, Mr. Owen Harris</td>\n",
              "      <td>male</td>\n",
              "      <td>22.0</td>\n",
              "      <td>1</td>\n",
              "      <td>0</td>\n",
              "      <td>A/5 21171</td>\n",
              "      <td>7.2500</td>\n",
              "      <td>S</td>\n",
              "      <td>Mr</td>\n",
              "      <td>1</td>\n",
              "      <td>0</td>\n",
              "      <td>0.0</td>\n",
              "      <td>0.0</td>\n",
              "      <td>0.0</td>\n",
              "    </tr>\n",
              "    <tr>\n",
              "      <th>1</th>\n",
              "      <td>2</td>\n",
              "      <td>1</td>\n",
              "      <td>1</td>\n",
              "      <td>Cumings, Mrs. John Bradley (Florence Briggs Th...</td>\n",
              "      <td>female</td>\n",
              "      <td>38.0</td>\n",
              "      <td>1</td>\n",
              "      <td>0</td>\n",
              "      <td>PC 17599</td>\n",
              "      <td>71.2833</td>\n",
              "      <td>C</td>\n",
              "      <td>Mrs</td>\n",
              "      <td>1</td>\n",
              "      <td>0</td>\n",
              "      <td>1.0</td>\n",
              "      <td>1.0</td>\n",
              "      <td>2.0</td>\n",
              "    </tr>\n",
              "    <tr>\n",
              "      <th>2</th>\n",
              "      <td>3</td>\n",
              "      <td>1</td>\n",
              "      <td>3</td>\n",
              "      <td>Heikkinen, Miss. Laina</td>\n",
              "      <td>female</td>\n",
              "      <td>26.0</td>\n",
              "      <td>0</td>\n",
              "      <td>0</td>\n",
              "      <td>STON/O2. 3101282</td>\n",
              "      <td>7.9250</td>\n",
              "      <td>S</td>\n",
              "      <td>Miss</td>\n",
              "      <td>0</td>\n",
              "      <td>1</td>\n",
              "      <td>1.0</td>\n",
              "      <td>0.0</td>\n",
              "      <td>1.0</td>\n",
              "    </tr>\n",
              "    <tr>\n",
              "      <th>3</th>\n",
              "      <td>4</td>\n",
              "      <td>1</td>\n",
              "      <td>1</td>\n",
              "      <td>Futrelle, Mrs. Jacques Heath (Lily May Peel)</td>\n",
              "      <td>female</td>\n",
              "      <td>35.0</td>\n",
              "      <td>1</td>\n",
              "      <td>0</td>\n",
              "      <td>113803</td>\n",
              "      <td>53.1000</td>\n",
              "      <td>S</td>\n",
              "      <td>Mrs</td>\n",
              "      <td>1</td>\n",
              "      <td>0</td>\n",
              "      <td>1.0</td>\n",
              "      <td>0.0</td>\n",
              "      <td>2.0</td>\n",
              "    </tr>\n",
              "  </tbody>\n",
              "</table>\n",
              "</div>"
            ],
            "text/plain": [
              "   PassengerId  Survived  Pclass  ... Sex_index Embarked_index  Initial_index\n",
              "0            1         0       3  ...       0.0            0.0            0.0\n",
              "1            2         1       1  ...       1.0            1.0            2.0\n",
              "2            3         1       3  ...       1.0            0.0            1.0\n",
              "3            4         1       1  ...       1.0            0.0            2.0\n",
              "\n",
              "[4 rows x 17 columns]"
            ]
          },
          "metadata": {
            "tags": []
          },
          "execution_count": 22
        }
      ]
    },
    {
      "cell_type": "code",
      "metadata": {
        "id": "kpwEmf4h_npk"
      },
      "source": [
        "# Now we drop columns that not needed for modelling\n",
        "df = df.drop(\"PassengerId\",\"Name\",\"Ticket\",\"Cabin\",\"Embarked\",\"Sex\",\"Initial\")"
      ],
      "execution_count": 23,
      "outputs": []
    },
    {
      "cell_type": "code",
      "metadata": {
        "id": "4nIJ_147_9nx",
        "colab": {
          "base_uri": "https://localhost:8080/",
          "height": 193
        },
        "outputId": "21dd374f-7ce9-4956-e184-0a499624028a"
      },
      "source": [
        "# before modelling in Pyspark, we need to put all features to Vector using Pyspark Vector Assembler\n",
        "feature = VectorAssembler(inputCols = df.columns[1:], outputCol=\"features\")\n",
        "feature_vector = feature.transform(df)\n",
        "feature_vector.limit(3).toPandas()"
      ],
      "execution_count": 24,
      "outputs": [
        {
          "output_type": "execute_result",
          "data": {
            "text/html": [
              "<div>\n",
              "<style scoped>\n",
              "    .dataframe tbody tr th:only-of-type {\n",
              "        vertical-align: middle;\n",
              "    }\n",
              "\n",
              "    .dataframe tbody tr th {\n",
              "        vertical-align: top;\n",
              "    }\n",
              "\n",
              "    .dataframe thead th {\n",
              "        text-align: right;\n",
              "    }\n",
              "</style>\n",
              "<table border=\"1\" class=\"dataframe\">\n",
              "  <thead>\n",
              "    <tr style=\"text-align: right;\">\n",
              "      <th></th>\n",
              "      <th>Survived</th>\n",
              "      <th>Pclass</th>\n",
              "      <th>Age</th>\n",
              "      <th>SibSp</th>\n",
              "      <th>Parch</th>\n",
              "      <th>Fare</th>\n",
              "      <th>famili_size</th>\n",
              "      <th>Alone</th>\n",
              "      <th>Sex_index</th>\n",
              "      <th>Embarked_index</th>\n",
              "      <th>Initial_index</th>\n",
              "      <th>features</th>\n",
              "    </tr>\n",
              "  </thead>\n",
              "  <tbody>\n",
              "    <tr>\n",
              "      <th>0</th>\n",
              "      <td>0</td>\n",
              "      <td>3</td>\n",
              "      <td>22.0</td>\n",
              "      <td>1</td>\n",
              "      <td>0</td>\n",
              "      <td>7.2500</td>\n",
              "      <td>1</td>\n",
              "      <td>0</td>\n",
              "      <td>0.0</td>\n",
              "      <td>0.0</td>\n",
              "      <td>0.0</td>\n",
              "      <td>(3.0, 22.0, 1.0, 0.0, 7.25, 1.0, 0.0, 0.0, 0.0...</td>\n",
              "    </tr>\n",
              "    <tr>\n",
              "      <th>1</th>\n",
              "      <td>1</td>\n",
              "      <td>1</td>\n",
              "      <td>38.0</td>\n",
              "      <td>1</td>\n",
              "      <td>0</td>\n",
              "      <td>71.2833</td>\n",
              "      <td>1</td>\n",
              "      <td>0</td>\n",
              "      <td>1.0</td>\n",
              "      <td>1.0</td>\n",
              "      <td>2.0</td>\n",
              "      <td>[1.0, 38.0, 1.0, 0.0, 71.2833, 1.0, 0.0, 1.0, ...</td>\n",
              "    </tr>\n",
              "    <tr>\n",
              "      <th>2</th>\n",
              "      <td>1</td>\n",
              "      <td>3</td>\n",
              "      <td>26.0</td>\n",
              "      <td>0</td>\n",
              "      <td>0</td>\n",
              "      <td>7.9250</td>\n",
              "      <td>0</td>\n",
              "      <td>1</td>\n",
              "      <td>1.0</td>\n",
              "      <td>0.0</td>\n",
              "      <td>1.0</td>\n",
              "      <td>[3.0, 26.0, 0.0, 0.0, 7.925, 0.0, 1.0, 1.0, 0....</td>\n",
              "    </tr>\n",
              "  </tbody>\n",
              "</table>\n",
              "</div>"
            ],
            "text/plain": [
              "   Survived  ...                                           features\n",
              "0         0  ...  (3.0, 22.0, 1.0, 0.0, 7.25, 1.0, 0.0, 0.0, 0.0...\n",
              "1         1  ...  [1.0, 38.0, 1.0, 0.0, 71.2833, 1.0, 0.0, 1.0, ...\n",
              "2         1  ...  [3.0, 26.0, 0.0, 0.0, 7.925, 0.0, 1.0, 1.0, 0....\n",
              "\n",
              "[3 rows x 12 columns]"
            ]
          },
          "metadata": {
            "tags": []
          },
          "execution_count": 24
        }
      ]
    },
    {
      "cell_type": "code",
      "metadata": {
        "id": "pC-ygJBQBNrR"
      },
      "source": [
        "# for data split in pyspark, we can use df.randomSplit()\n",
        "(train_df, test_df) = feature_vector.randomSplit([0.8,0.2], seed=11)"
      ],
      "execution_count": 25,
      "outputs": []
    },
    {
      "cell_type": "code",
      "metadata": {
        "id": "YoqTl1gvBiGZ",
        "colab": {
          "base_uri": "https://localhost:8080/"
        },
        "outputId": "14efb7f3-5aa9-4578-d972-75cb84ca6dad"
      },
      "source": [
        "train_df.printSchema()"
      ],
      "execution_count": 26,
      "outputs": [
        {
          "output_type": "stream",
          "text": [
            "root\n",
            " |-- Survived: integer (nullable = true)\n",
            " |-- Pclass: integer (nullable = true)\n",
            " |-- Age: double (nullable = true)\n",
            " |-- SibSp: integer (nullable = true)\n",
            " |-- Parch: integer (nullable = true)\n",
            " |-- Fare: double (nullable = true)\n",
            " |-- famili_size: integer (nullable = true)\n",
            " |-- Alone: integer (nullable = false)\n",
            " |-- Sex_index: double (nullable = false)\n",
            " |-- Embarked_index: double (nullable = false)\n",
            " |-- Initial_index: double (nullable = false)\n",
            " |-- features: vector (nullable = true)\n",
            "\n"
          ],
          "name": "stdout"
        }
      ]
    },
    {
      "cell_type": "code",
      "metadata": {
        "id": "dEj6oLAHBnXp"
      },
      "source": [
        "# select features column for features training and 'Survived' as label to predict\n",
        "titanic_df = feature_vector.select(['features','Survived'])\n",
        "# split the dataset to train and test\n",
        "train_df, test_df = titanic_df.randomSplit([0.75,0.25], seed=11)"
      ],
      "execution_count": 27,
      "outputs": []
    },
    {
      "cell_type": "code",
      "metadata": {
        "id": "MA0SqTCtE70Q"
      },
      "source": [
        "def spark_shape(self):\n",
        "    return (self.count(), len(self.columns))"
      ],
      "execution_count": 28,
      "outputs": []
    },
    {
      "cell_type": "code",
      "metadata": {
        "id": "kB05LZSUFh3K",
        "colab": {
          "base_uri": "https://localhost:8080/"
        },
        "outputId": "25dea0ae-f2ec-4dbf-d2c1-815fb22affe5"
      },
      "source": [
        "spark_shape(titanic_df)"
      ],
      "execution_count": 29,
      "outputs": [
        {
          "output_type": "execute_result",
          "data": {
            "text/plain": [
              "(891, 2)"
            ]
          },
          "metadata": {
            "tags": []
          },
          "execution_count": 29
        }
      ]
    },
    {
      "cell_type": "code",
      "metadata": {
        "id": "c3eUtD0yFkjB",
        "colab": {
          "base_uri": "https://localhost:8080/"
        },
        "outputId": "cd103341-4ba0-44b8-e04a-5b71259a6858"
      },
      "source": [
        "# shape in spark\n",
        "spark.conf.set(\"spark.sql.execution.arrow.enabled\", \"true\")\n",
        "spark.conf.set(\"spark.sql.crossJoin.enabled\", \"true\")\n",
        "print(df.toPandas().shape)"
      ],
      "execution_count": 30,
      "outputs": [
        {
          "output_type": "stream",
          "text": [
            "(891, 11)\n"
          ],
          "name": "stdout"
        }
      ]
    },
    {
      "cell_type": "code",
      "metadata": {
        "id": "nba6BYF5HzKG",
        "colab": {
          "base_uri": "https://localhost:8080/"
        },
        "outputId": "adb9e427-0f06-4d86-b88a-ae672e334590"
      },
      "source": [
        "# load pyspark libraries\n",
        "from pyspark.ml.classification import LogisticRegression\n",
        "from pyspark.ml.tuning import ParamGridBuilder, TrainValidationSplit\n",
        "from pyspark.ml import Pipeline\n",
        "from pyspark.ml.evaluation import BinaryClassificationEvaluator\n",
        "from pyspark.ml.tuning import CrossValidator, ParamGridBuilder\n",
        "from sklearn.metrics import roc_curve,auc\n",
        "\n",
        "\n",
        "lr = LogisticRegression(labelCol=\"Survived\")\n",
        "\n",
        "# grid parameter\n",
        "paramGrid = ParamGridBuilder().addGrid(lr.regParam, (0.01, 0.1))\\\n",
        "                              .addGrid(lr.maxIter, (5, 10))\\\n",
        "                              .addGrid(lr.tol, (1e-4, 1e-5))\\\n",
        "                              .addGrid(lr.elasticNetParam, (0.25,0.75))\\\n",
        "                              .build()\n",
        "\n",
        "# cross validation with parameter\n",
        "tvs = TrainValidationSplit( estimator=lr\n",
        "                           ,estimatorParamMaps=paramGrid\n",
        "                           ,evaluator=MulticlassClassificationEvaluator(labelCol='Survived')\n",
        "                           ,trainRatio=0.8)\n",
        "model = tvs.fit(train_df)\n",
        "model_predictions= model.transform(test_df)\n",
        "\n",
        "print('Accuracy: ', MulticlassClassificationEvaluator(labelCol='Survived',metricName='accuracy').evaluate(model_predictions))\n",
        "print('Precision: ',MulticlassClassificationEvaluator(labelCol='Survived',metricName='weightedPrecision').evaluate(model_predictions))"
      ],
      "execution_count": 31,
      "outputs": [
        {
          "output_type": "stream",
          "text": [
            "Accuracy:  0.8626609442060086\n",
            "Precision:  0.8619683825221875\n"
          ],
          "name": "stdout"
        }
      ]
    },
    {
      "cell_type": "markdown",
      "metadata": {
        "id": "uKcFFw6GIOI4"
      },
      "source": [
        "Evaluating ROC metric"
      ]
    },
    {
      "cell_type": "code",
      "metadata": {
        "id": "B3kXhfG7IJUb",
        "colab": {
          "base_uri": "https://localhost:8080/"
        },
        "outputId": "b27059cd-a2f9-4ef1-94ce-9d2a48e002c3"
      },
      "source": [
        "from pyspark.mllib.evaluation import BinaryClassificationMetrics as metric\n",
        "from pyspark import SparkContext\n",
        "sc =SparkContext.getOrCreate()   # We need to create SparkContext\n",
        "results = model_predictions.select(['probability', 'Survived'])\n",
        " \n",
        "## prepare score-label set\n",
        "results_collect = results.collect()\n",
        "results_list = [(float(i[0][0]), 1.0-float(i[1])) for i in results_collect]\n",
        "scoreAndLabels = sc.parallelize(results_list)\n",
        " \n",
        "metrics = metric(scoreAndLabels)\n",
        "print(\"The ROC score is : \", metrics.areaUnderROC)"
      ],
      "execution_count": 32,
      "outputs": [
        {
          "output_type": "stream",
          "text": [
            "The ROC score is :  0.902292152292152\n"
          ],
          "name": "stdout"
        }
      ]
    },
    {
      "cell_type": "markdown",
      "metadata": {
        "id": "QeINFfmoIZCg"
      },
      "source": [
        "Visualizing AUC metrics"
      ]
    },
    {
      "cell_type": "code",
      "metadata": {
        "id": "7hYbMCMMIUNa",
        "colab": {
          "base_uri": "https://localhost:8080/",
          "height": 295
        },
        "outputId": "8075a6ee-bc4b-43e4-f83b-28fd7aced5df"
      },
      "source": [
        "from sklearn.metrics import roc_curve, auc\n",
        " \n",
        "fpr = dict()\n",
        "tpr = dict()\n",
        "roc_auc = dict()\n",
        " \n",
        "y_test = [i[1] for i in results_list]\n",
        "y_score = [i[0] for i in results_list]\n",
        " \n",
        "fpr, tpr, _ = roc_curve(y_test, y_score)\n",
        "roc_auc = auc(fpr, tpr)\n",
        " \n",
        "%matplotlib inline\n",
        "plt.figure()\n",
        "plt.plot(fpr, tpr, label='ROC curve (area = %0.2f)' % roc_auc)\n",
        "plt.plot([0, 1], [0, 1], 'k--')\n",
        "plt.xlim([0.0, 1.0])\n",
        "plt.ylim([0.0, 1.05])\n",
        "plt.xlabel('False Positive Rate')\n",
        "plt.ylabel('True Positive Rate')\n",
        "plt.title('Area under the ROC Curve')\n",
        "plt.legend(loc=\"lower right\")\n",
        "plt.show()"
      ],
      "execution_count": 33,
      "outputs": [
        {
          "output_type": "display_data",
          "data": {
            "image/png": "[encoded data removed]",
            "text/plain": [
              "<Figure size 432x288 with 1 Axes>"
            ]
          },
          "metadata": {
            "tags": [],
            "needs_background": "light"
          }
        }
      ]
    },
    {
      "cell_type": "markdown",
      "metadata": {
        "id": "gwi4bs12Ip_6"
      },
      "source": [
        "RANDOM FOREST"
      ]
    },
    {
      "cell_type": "code",
      "metadata": {
        "id": "8Bog0PIcIdqK",
        "colab": {
          "base_uri": "https://localhost:8080/"
        },
        "outputId": "bd3b475a-c54c-48eb-8451-e774888aef69"
      },
      "source": [
        "from pyspark.ml.classification import RandomForestClassifier\n",
        "from pyspark.ml.tuning import ParamGridBuilder, TrainValidationSplit\n",
        "rf = RandomForestClassifier(labelCol='Survived')\n",
        "paramGrid = ParamGridBuilder()\\\n",
        "                                .addGrid(rf.maxDepth, [5, 10, 20]) \\\n",
        "                                .addGrid(rf.maxBins, [20, 32, 50]) \\\n",
        "                                .addGrid(rf.numTrees, [20, 40, 60 ]) \\\n",
        "                                .addGrid(rf.impurity, [\"gini\", \"entropy\"]) \\\n",
        "                                .addGrid(rf.minInstancesPerNode, [1, 5, 10]) \\\n",
        "                                .build()\n",
        "\n",
        "\n",
        "tvs = TrainValidationSplit( estimator=rf\n",
        "                           ,estimatorParamMaps=paramGrid\n",
        "                           ,evaluator=MulticlassClassificationEvaluator(labelCol='Survived')\n",
        "                           ,trainRatio=0.8)\n",
        "model = tvs.fit(train_df)\n",
        "model_predictions= model.transform(test_df)\n",
        "\n",
        "\n",
        "print('Accuracy: ', MulticlassClassificationEvaluator(labelCol='Survived',metricName='accuracy').evaluate(model_predictions))\n",
        "print('Precision: ',MulticlassClassificationEvaluator(labelCol='Survived',metricName='weightedPrecision').evaluate(model_predictions))"
      ],
      "execution_count": 34,
      "outputs": [
        {
          "output_type": "stream",
          "text": [
            "Accuracy:  0.8798283261802575\n",
            "Precision:  0.8803297427697832\n"
          ],
          "name": "stdout"
        }
      ]
    },
    {
      "cell_type": "markdown",
      "metadata": {
        "id": "oPvzGvYxI0si"
      },
      "source": [
        "Evaluating ROC metrics"
      ]
    },
    {
      "cell_type": "code",
      "metadata": {
        "id": "VvLXSj6qIpP4",
        "colab": {
          "base_uri": "https://localhost:8080/"
        },
        "outputId": "980e6cee-a03c-4240-b6bd-b88340a8a715"
      },
      "source": [
        "sc =SparkContext.getOrCreate()   # We need to create SparkContext\n",
        "results = model_predictions.select(['probability', 'Survived'])\n",
        " \n",
        "## prepare score-label set\n",
        "results_collect = results.collect()\n",
        "results_list = [(float(i[0][0]), 1.0-float(i[1])) for i in results_collect]\n",
        "scoreAndLabels = sc.parallelize(results_list)\n",
        " \n",
        "metrics = metric(scoreAndLabels)\n",
        "print(\"The ROC score is : \", metrics.areaUnderROC)"
      ],
      "execution_count": 35,
      "outputs": [
        {
          "output_type": "stream",
          "text": [
            "The ROC score is :  0.9102564102564104\n"
          ],
          "name": "stdout"
        }
      ]
    },
    {
      "cell_type": "markdown",
      "metadata": {
        "id": "ddUxcWK6I8R_"
      },
      "source": [
        "Visualizing AUC metrics"
      ]
    },
    {
      "cell_type": "code",
      "metadata": {
        "id": "VyW3oBFcI4t6",
        "colab": {
          "base_uri": "https://localhost:8080/",
          "height": 295
        },
        "outputId": "ebecc775-3313-4043-ac8e-2ee6a3d7b54a"
      },
      "source": [
        "fpr = dict()\n",
        "tpr = dict()\n",
        "roc_auc = dict()\n",
        " \n",
        "y_test = [i[1] for i in results_list]\n",
        "y_score = [i[0] for i in results_list]\n",
        " \n",
        "fpr, tpr, _ = roc_curve(y_test, y_score)\n",
        "roc_auc = auc(fpr, tpr)\n",
        " \n",
        "%matplotlib inline\n",
        "plt.figure()\n",
        "plt.plot(fpr, tpr, label='ROC curve (area = %0.2f)' % roc_auc)\n",
        "plt.plot([0, 1], [0, 1], 'k--')\n",
        "plt.xlim([0.0, 1.0])\n",
        "plt.ylim([0.0, 1.05])\n",
        "plt.xlabel('False Positive Rate')\n",
        "plt.ylabel('True Positive Rate')\n",
        "plt.title('Area under the ROC Curve')\n",
        "plt.legend(loc=\"lower right\")\n",
        "plt.show()"
      ],
      "execution_count": 36,
      "outputs": [
        {
          "output_type": "display_data",
          "data": {
            "image/png": "[encoded data removed]",
            "text/plain": [
              "<Figure size 432x288 with 1 Axes>"
            ]
          },
          "metadata": {
            "tags": [],
            "needs_background": "light"
          }
        }
      ]
    }
  ]
}