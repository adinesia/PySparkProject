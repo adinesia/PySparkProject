{
  "nbformat": 4,
  "nbformat_minor": 0,
  "metadata": {
    "colab": {
      "name": "PySpark Clustering Iris Flower.ipynb",
      "provenance": [],
      "collapsed_sections": [],
      "authorship_tag": "ABX9TyPSj1BF+uPlQM0jXoUt7UOP",
      "include_colab_link": true
    },
    "kernelspec": {
      "name": "python3",
      "display_name": "Python 3"
    }
  },
  "cells": [
    {
      "cell_type": "markdown",
      "metadata": {
        "id": "view-in-github",
        "colab_type": "text"
      },
      "source": [
        "<a href=\"https://colab.research.google.com/github/adinesia/PySparkProject/blob/main/PySpark_Clustering_Iris_Flower.ipynb\" target=\"_parent\"><img src=\"https://colab.research.google.com/assets/colab-badge.svg\" alt=\"Open In Colab\"/></a>"
      ]
    },
    {
      "cell_type": "code",
      "metadata": {
        "id": "fyHUg9-0dKoH",
        "outputId": "1caf7f58-2808-45ea-bf2d-86e4c85a1ea1",
        "colab": {
          "base_uri": "https://localhost:8080/"
        }
      },
      "source": [
        "!pip install pyspark"
      ],
      "execution_count": 8,
      "outputs": [
        {
          "output_type": "stream",
          "text": [
            "Requirement already satisfied: pyspark in /usr/local/lib/python3.6/dist-packages (3.0.1)\n",
            "Requirement already satisfied: py4j==0.10.9 in /usr/local/lib/python3.6/dist-packages (from pyspark) (0.10.9)\n"
          ],
          "name": "stdout"
        }
      ]
    },
    {
      "cell_type": "code",
      "metadata": {
        "id": "lX5W7E4PjLRN"
      },
      "source": [
        "import pandas as pd\n",
        "import numpy as np\n",
        "import seaborn as sns\n",
        "import matplotlib.pyplot as plt\n",
        "# pyspark lib\n",
        "from pyspark.sql import SparkSession\n",
        "from pyspark.sql.functions import isnan, when, count, col\n",
        "from pyspark.ml.feature import VectorAssembler\n",
        "from pyspark.ml.feature import  StringIndexer\n",
        "from pyspark.ml.clustering import KMeans\n",
        "from pyspark.ml.clustering import BisectingKMeans\n",
        "from pyspark.ml.evaluation import ClusteringEvaluator\n",
        "\n",
        "%matplotlib inline"
      ],
      "execution_count": 9,
      "outputs": []
    },
    {
      "cell_type": "code",
      "metadata": {
        "id": "867CcS7liqKD"
      },
      "source": [
        "# Building spark session\n",
        "spark = SparkSession.builder\\\n",
        "        .master(\"local[*]\")\\\n",
        "        .appName('Iris Unsupervise')\\\n",
        "        .getOrCreate()"
      ],
      "execution_count": 10,
      "outputs": []
    },
    {
      "cell_type": "code",
      "metadata": {
        "id": "-6LM0wCki3l5"
      },
      "source": [
        "# Load iris dataset\n",
        "df = pd.read_csv('Iris.csv')\n",
        "iris_df = spark.createDataFrame(df)"
      ],
      "execution_count": 12,
      "outputs": []
    },
    {
      "cell_type": "code",
      "metadata": {
        "id": "X6itBPUgockz",
        "outputId": "d39dab35-65dd-4dd9-893f-19785225a9c3",
        "colab": {
          "base_uri": "https://localhost:8080/"
        }
      },
      "source": [
        "iris_df.printSchema()"
      ],
      "execution_count": 13,
      "outputs": [
        {
          "output_type": "stream",
          "text": [
            "root\n",
            " |-- Id: long (nullable = true)\n",
            " |-- SepalLengthCm: double (nullable = true)\n",
            " |-- SepalWidthCm: double (nullable = true)\n",
            " |-- PetalLengthCm: double (nullable = true)\n",
            " |-- PetalWidthCm: double (nullable = true)\n",
            " |-- Species: string (nullable = true)\n",
            "\n"
          ],
          "name": "stdout"
        }
      ]
    },
    {
      "cell_type": "code",
      "metadata": {
        "id": "EO7YL-FtKxBS",
        "outputId": "798f89d4-24bf-4ae0-ca68-78dc4106a259",
        "colab": {
          "base_uri": "https://localhost:8080/"
        }
      },
      "source": [
        "iris_df.count()"
      ],
      "execution_count": 14,
      "outputs": [
        {
          "output_type": "execute_result",
          "data": {
            "text/plain": [
              "150"
            ]
          },
          "metadata": {
            "tags": []
          },
          "execution_count": 14
        }
      ]
    },
    {
      "cell_type": "code",
      "metadata": {
        "id": "bpFD5pjno6w7",
        "outputId": "5065d440-71e9-44f2-afa4-7f3edc216b77",
        "colab": {
          "base_uri": "https://localhost:8080/"
        }
      },
      "source": [
        "iris_df.show(5)"
      ],
      "execution_count": 15,
      "outputs": [
        {
          "output_type": "stream",
          "text": [
            "+---+-------------+------------+-------------+------------+-----------+\n",
            "| Id|SepalLengthCm|SepalWidthCm|PetalLengthCm|PetalWidthCm|    Species|\n",
            "+---+-------------+------------+-------------+------------+-----------+\n",
            "|  1|          5.1|         3.5|          1.4|         0.2|Iris-setosa|\n",
            "|  2|          4.9|         3.0|          1.4|         0.2|Iris-setosa|\n",
            "|  3|          4.7|         3.2|          1.3|         0.2|Iris-setosa|\n",
            "|  4|          4.6|         3.1|          1.5|         0.2|Iris-setosa|\n",
            "|  5|          5.0|         3.6|          1.4|         0.2|Iris-setosa|\n",
            "+---+-------------+------------+-------------+------------+-----------+\n",
            "only showing top 5 rows\n",
            "\n"
          ],
          "name": "stdout"
        }
      ]
    },
    {
      "cell_type": "code",
      "metadata": {
        "id": "4oxkR-qjLT3e",
        "outputId": "ca30614f-6ca7-4149-a491-38c145b470c2",
        "colab": {
          "base_uri": "https://localhost:8080/"
        }
      },
      "source": [
        "#  unique values in species\n",
        "iris_df.select('species').distinct().rdd.map(lambda r: r[0]).collect()"
      ],
      "execution_count": 16,
      "outputs": [
        {
          "output_type": "execute_result",
          "data": {
            "text/plain": [
              "['Iris-virginica', 'Iris-setosa', 'Iris-versicolor']"
            ]
          },
          "metadata": {
            "tags": []
          },
          "execution_count": 16
        }
      ]
    },
    {
      "cell_type": "code",
      "metadata": {
        "id": "edPBPTYfjNIF",
        "outputId": "6c0bc13e-c997-4e28-9fc9-d5f1915c8ef0",
        "colab": {
          "base_uri": "https://localhost:8080/"
        }
      },
      "source": [
        "# Counting velues in species\n",
        "iris_df.groupBy('species').count().show()"
      ],
      "execution_count": 17,
      "outputs": [
        {
          "output_type": "stream",
          "text": [
            "+---------------+-----+\n",
            "|        species|count|\n",
            "+---------------+-----+\n",
            "| Iris-virginica|   50|\n",
            "|    Iris-setosa|   50|\n",
            "|Iris-versicolor|   50|\n",
            "+---------------+-----+\n",
            "\n"
          ],
          "name": "stdout"
        }
      ]
    },
    {
      "cell_type": "code",
      "metadata": {
        "id": "I1Er2ID7YeB6",
        "outputId": "a1b994c2-58e9-40a5-8a46-b61f3997bf9f",
        "colab": {
          "base_uri": "https://localhost:8080/"
        }
      },
      "source": [
        "# Checking missing values\n",
        "iris_df.select([count(when(isnan(c) | col(c).isNull(), c)).alias(c) for c in iris_df.columns]).show()"
      ],
      "execution_count": 18,
      "outputs": [
        {
          "output_type": "stream",
          "text": [
            "+---+-------------+------------+-------------+------------+-------+\n",
            "| Id|SepalLengthCm|SepalWidthCm|PetalLengthCm|PetalWidthCm|Species|\n",
            "+---+-------------+------------+-------------+------------+-------+\n",
            "|  0|            0|           0|            0|           0|      0|\n",
            "+---+-------------+------------+-------------+------------+-------+\n",
            "\n"
          ],
          "name": "stdout"
        }
      ]
    },
    {
      "cell_type": "code",
      "metadata": {
        "id": "jV5LI4_r3lp5"
      },
      "source": [
        "# converting the input data to features in column\n",
        "vAssembler = VectorAssembler(inputCols=['SepalLengthCm','SepalWidthCm','PetalLengthCm','PetalWidthCm',], outputCol=\"features\")\n",
        "viris_df = vAssembler.transform(iris_df)"
      ],
      "execution_count": 19,
      "outputs": []
    },
    {
      "cell_type": "code",
      "metadata": {
        "id": "P1hChrvP4Ugv",
        "outputId": "737d1a56-0e46-41b8-f82b-578966adbf49",
        "colab": {
          "base_uri": "https://localhost:8080/"
        }
      },
      "source": [
        "viris_df.show(5)"
      ],
      "execution_count": 20,
      "outputs": [
        {
          "output_type": "stream",
          "text": [
            "+---+-------------+------------+-------------+------------+-----------+-----------------+\n",
            "| Id|SepalLengthCm|SepalWidthCm|PetalLengthCm|PetalWidthCm|    Species|         features|\n",
            "+---+-------------+------------+-------------+------------+-----------+-----------------+\n",
            "|  1|          5.1|         3.5|          1.4|         0.2|Iris-setosa|[5.1,3.5,1.4,0.2]|\n",
            "|  2|          4.9|         3.0|          1.4|         0.2|Iris-setosa|[4.9,3.0,1.4,0.2]|\n",
            "|  3|          4.7|         3.2|          1.3|         0.2|Iris-setosa|[4.7,3.2,1.3,0.2]|\n",
            "|  4|          4.6|         3.1|          1.5|         0.2|Iris-setosa|[4.6,3.1,1.5,0.2]|\n",
            "|  5|          5.0|         3.6|          1.4|         0.2|Iris-setosa|[5.0,3.6,1.4,0.2]|\n",
            "+---+-------------+------------+-------------+------------+-----------+-----------------+\n",
            "only showing top 5 rows\n",
            "\n"
          ],
          "name": "stdout"
        }
      ]
    },
    {
      "cell_type": "code",
      "metadata": {
        "id": "yZhsHiZ94hi-"
      },
      "source": [
        "# index the spesies\n",
        "indexer = StringIndexer(inputCol='Species', outputCol='label')\n",
        "iviris_df = indexer.fit(viris_df).transform(viris_df)"
      ],
      "execution_count": 21,
      "outputs": []
    },
    {
      "cell_type": "code",
      "metadata": {
        "id": "ks0p7wKt4XQP",
        "outputId": "3e114d7b-5844-4227-b81a-35f977b6b92e",
        "colab": {
          "base_uri": "https://localhost:8080/"
        }
      },
      "source": [
        "iviris_df.show(3)"
      ],
      "execution_count": 22,
      "outputs": [
        {
          "output_type": "stream",
          "text": [
            "+---+-------------+------------+-------------+------------+-----------+-----------------+-----+\n",
            "| Id|SepalLengthCm|SepalWidthCm|PetalLengthCm|PetalWidthCm|    Species|         features|label|\n",
            "+---+-------------+------------+-------------+------------+-----------+-----------------+-----+\n",
            "|  1|          5.1|         3.5|          1.4|         0.2|Iris-setosa|[5.1,3.5,1.4,0.2]|  0.0|\n",
            "|  2|          4.9|         3.0|          1.4|         0.2|Iris-setosa|[4.9,3.0,1.4,0.2]|  0.0|\n",
            "|  3|          4.7|         3.2|          1.3|         0.2|Iris-setosa|[4.7,3.2,1.3,0.2]|  0.0|\n",
            "+---+-------------+------------+-------------+------------+-----------+-----------------+-----+\n",
            "only showing top 3 rows\n",
            "\n"
          ],
          "name": "stdout"
        }
      ]
    },
    {
      "cell_type": "markdown",
      "metadata": {
        "id": "szKuDcBQsmQy"
      },
      "source": [
        "# Visualizing the iris dataset"
      ]
    },
    {
      "cell_type": "code",
      "metadata": {
        "id": "dRdIO5x_t75L"
      },
      "source": [
        "# Getting the features column as X\n",
        "X = iviris_df.rdd.map(lambda row: row.features).collect()\n",
        "X = np.array(X)"
      ],
      "execution_count": 23,
      "outputs": []
    },
    {
      "cell_type": "code",
      "metadata": {
        "id": "wGeU9tsDucJ_"
      },
      "source": [
        "# Getting the features values\n",
        "y = np.array(iviris_df.select('label').collect()).reshape(-1)"
      ],
      "execution_count": 24,
      "outputs": []
    },
    {
      "cell_type": "code",
      "metadata": {
        "id": "hbt6vmTEuC82"
      },
      "source": [
        "# Plotting the dataset\n",
        "plt.style.use('fivethirtyeight')\n",
        "plt.rcParams['figure.figsize'] = 8, 6\n",
        "plt.rcParams['font.size'] = 12\n",
        "\n",
        "\n",
        "def plot_iris(X, y):\n",
        "    \"\"\"a scatter plot of the 2-dimensional iris data\"\"\"\n",
        "    markers = 's', 'x', 'o'\n",
        "    colors = list(plt.rcParams['axes.prop_cycle'])\n",
        "    target = np.unique(y)\n",
        "    for idx, (t, m) in enumerate(zip(target, markers)):\n",
        "        subset = X[y == t]\n",
        "        plt.scatter(subset[:, 0], subset[:, 1], s = 50,\n",
        "                    c = colors[idx]['color'], label = t, marker = m)\n",
        "\n",
        "    plt.legend(loc = 'upper right')\n",
        "    plt.tight_layout()\n",
        "    plt.show()"
      ],
      "execution_count": 25,
      "outputs": []
    },
    {
      "cell_type": "code",
      "metadata": {
        "id": "m0Hv9Ew0IbAS",
        "outputId": "20b18da6-4ce9-4791-efc0-bb42238cd8ed",
        "colab": {
          "base_uri": "https://localhost:8080/",
          "height": 437
        }
      },
      "source": [
        "plot_iris(X, y)"
      ],
      "execution_count": 26,
      "outputs": [
        {
          "output_type": "display_data",
          "data": {
            "image/png": "[encoded data removed]",
            "text/plain": [
              "<Figure size 576x432 with 1 Axes>"
            ]
          },
          "metadata": {
            "tags": []
          }
        }
      ]
    },
    {
      "cell_type": "markdown",
      "metadata": {
        "id": "RrotXIw4sFaG"
      },
      "source": [
        "# K Means Clustering"
      ]
    },
    {
      "cell_type": "code",
      "metadata": {
        "id": "vZuVFWp5cLfG"
      },
      "source": [
        "# Finding the optimum number of clusters for k-means classification\n",
        "cost = np.zeros(10)\n",
        "for k in range(2,10):\n",
        "    kmeans = KMeans().setK(k).setSeed(1).setFeaturesCol(\"features\")\n",
        "    model = kmeans.fit(iviris_df.sample(False,0.1, seed=42))\n",
        "    cost[k] = model.summary.trainingCost"
      ],
      "execution_count": 27,
      "outputs": []
    },
    {
      "cell_type": "code",
      "metadata": {
        "id": "Co8YEY9KcPa3",
        "outputId": "a052c1fa-5eed-4e82-b2b5-aece10c8b199",
        "colab": {
          "base_uri": "https://localhost:8080/",
          "height": 435
        }
      },
      "source": [
        "# Plotting the results onto a line graph, \n",
        "# `allowing us to observe 'The elbow'\n",
        "fig, ax = plt.subplots(1,1, figsize =(8,6))\n",
        "ax.plot(range(2,10),cost[2:10])\n",
        "ax.set_xlabel('k')\n",
        "ax.set_ylabel('cost')\n",
        "plt.xlabel('Number of Clusters')\n",
        "plt.ylabel('Score')\n",
        "plt.title('Elbow Curve')\n",
        "plt.show()"
      ],
      "execution_count": 28,
      "outputs": [
        {
          "output_type": "display_data",
          "data": {
            "image/png": "[encoded data removed]",
            "text/plain": [
              "<Figure size 576x432 with 1 Axes>"
            ]
          },
          "metadata": {
            "tags": []
          }
        }
      ]
    },
    {
      "cell_type": "code",
      "metadata": {
        "id": "53d4OqWEdZKa",
        "outputId": "6bf12d51-d659-4ed0-cd3a-ec5b6f03278b",
        "colab": {
          "base_uri": "https://localhost:8080/"
        }
      },
      "source": [
        "# applying k-means to the dataset using feature column\n",
        "k = 3\n",
        "kmeans = KMeans().setK(k).setSeed(1).setFeaturesCol(\"features\")\n",
        "model = kmeans.fit(iviris_df)\n",
        "centers = model.clusterCenters()\n",
        "\n",
        "print(\"Cluster Centers: \")\n",
        "for center in centers:\n",
        "    print(center)"
      ],
      "execution_count": 29,
      "outputs": [
        {
          "output_type": "stream",
          "text": [
            "Cluster Centers: \n",
            "[5.88360656 2.74098361 4.38852459 1.43442623]\n",
            "[5.006 3.418 1.464 0.244]\n",
            "[6.85384615 3.07692308 5.71538462 2.05384615]\n"
          ],
          "name": "stdout"
        }
      ]
    },
    {
      "cell_type": "code",
      "metadata": {
        "id": "tMehFfH4baEi"
      },
      "source": [
        "# splitting dataset\n",
        "train, test = iviris_df.randomSplit([0.70, 0.30], 1)"
      ],
      "execution_count": 30,
      "outputs": []
    },
    {
      "cell_type": "code",
      "metadata": {
        "id": "CTInY-VYnMIs"
      },
      "source": [
        "# Trains a bisecting k-means model.\n",
        "bkm = BisectingKMeans().setK(3).setSeed(1).setFeaturesCol(\"features\")\n",
        "model = bkm.fit(train)"
      ],
      "execution_count": 31,
      "outputs": []
    },
    {
      "cell_type": "code",
      "metadata": {
        "id": "0KficoRpni6K"
      },
      "source": [
        "# Make predictions\n",
        "predictions = model.transform(test)"
      ],
      "execution_count": 32,
      "outputs": []
    },
    {
      "cell_type": "code",
      "metadata": {
        "id": "dxhl4mXInmmG"
      },
      "source": [
        "# Evaluate clustering by computing Silhouette score\n",
        "evaluator = ClusteringEvaluator()"
      ],
      "execution_count": 33,
      "outputs": []
    },
    {
      "cell_type": "code",
      "metadata": {
        "id": "Jwm0xyNinrNC",
        "outputId": "0be210a6-4728-4b0e-cdfd-988de68d28f4",
        "colab": {
          "base_uri": "https://localhost:8080/"
        }
      },
      "source": [
        "# evaluation\n",
        "silhouette = evaluator.evaluate(predictions)\n",
        "print(\"Silhouette with squared euclidean distance = \" + str(silhouette))"
      ],
      "execution_count": 34,
      "outputs": [
        {
          "output_type": "stream",
          "text": [
            "Silhouette with squared euclidean distance = 0.7180555746325292\n"
          ],
          "name": "stdout"
        }
      ]
    },
    {
      "cell_type": "code",
      "metadata": {
        "id": "XuRKASg_lVok",
        "outputId": "06a37497-6bca-48ff-e3ca-eaa712d78353",
        "colab": {
          "base_uri": "https://localhost:8080/"
        }
      },
      "source": [
        "# Shows the center of cluster\n",
        "print(\"Cluster Centers: \")\n",
        "centers = model.clusterCenters()\n",
        "for center in centers:\n",
        "    print(center)"
      ],
      "execution_count": 35,
      "outputs": [
        {
          "output_type": "stream",
          "text": [
            "Cluster Centers: \n",
            "[4.96315789 3.24210526 1.61052632 0.29473684]\n",
            "[5.84634146 2.71707317 4.37560976 1.42439024]\n",
            "[6.91724138 3.09310345 5.75172414 2.05172414]\n"
          ],
          "name": "stdout"
        }
      ]
    },
    {
      "cell_type": "code",
      "metadata": {
        "id": "VJOW8Idrir16",
        "outputId": "bb58da3b-c78b-4ec9-d6ac-d57e7e51c77f",
        "colab": {
          "base_uri": "https://localhost:8080/"
        }
      },
      "source": [
        "SpeciesAndPreds = predictions.select(\"Species\", \"prediction\").collect()\n",
        "\n",
        "def getCluster(specie):\n",
        "    if specie == \"Iris-setosa\":\n",
        "        return 0\n",
        "    elif specie == \"Iris-versicolor\":\n",
        "        return 1\n",
        "    else:\n",
        "        return 2\n",
        "\n",
        "def getAccuracy(flowers):\n",
        "    counter = 0;\n",
        "    for flower in flowers:\n",
        "        if getCluster(flower[0]) == flower[1]:\n",
        "            counter += 1\n",
        "    return counter / len(flowers)\n",
        "\n",
        "accuracy = getAccuracy(SpeciesAndPreds)\n",
        "print(\"accuracy is \" + str(accuracy))"
      ],
      "execution_count": 36,
      "outputs": [
        {
          "output_type": "stream",
          "text": [
            "accuracy is 0.8571428571428571\n"
          ],
          "name": "stdout"
        }
      ]
    },
    {
      "cell_type": "code",
      "metadata": {
        "id": "o7SvfFv0ntZe",
        "outputId": "61d4c433-9662-4233-81a1-24805263121d",
        "colab": {
          "base_uri": "https://localhost:8080/"
        }
      },
      "source": [
        "# show prediction\n",
        "predictions.show(150)"
      ],
      "execution_count": 37,
      "outputs": [
        {
          "output_type": "stream",
          "text": [
            "+---+-------------+------------+-------------+------------+---------------+-----------------+-----+----------+\n",
            "| Id|SepalLengthCm|SepalWidthCm|PetalLengthCm|PetalWidthCm|        Species|         features|label|prediction|\n",
            "+---+-------------+------------+-------------+------------+---------------+-----------------+-----+----------+\n",
            "|  5|          5.0|         3.6|          1.4|         0.2|    Iris-setosa|[5.0,3.6,1.4,0.2]|  0.0|         0|\n",
            "|  6|          5.4|         3.9|          1.7|         0.4|    Iris-setosa|[5.4,3.9,1.7,0.4]|  0.0|         0|\n",
            "| 14|          4.3|         3.0|          1.1|         0.1|    Iris-setosa|[4.3,3.0,1.1,0.1]|  0.0|         0|\n",
            "| 15|          5.8|         4.0|          1.2|         0.2|    Iris-setosa|[5.8,4.0,1.2,0.2]|  0.0|         0|\n",
            "| 16|          5.7|         4.4|          1.5|         0.4|    Iris-setosa|[5.7,4.4,1.5,0.4]|  0.0|         0|\n",
            "| 17|          5.4|         3.9|          1.3|         0.4|    Iris-setosa|[5.4,3.9,1.3,0.4]|  0.0|         0|\n",
            "| 18|          5.1|         3.5|          1.4|         0.3|    Iris-setosa|[5.1,3.5,1.4,0.3]|  0.0|         0|\n",
            "| 30|          4.7|         3.2|          1.6|         0.2|    Iris-setosa|[4.7,3.2,1.6,0.2]|  0.0|         0|\n",
            "| 33|          5.2|         4.1|          1.5|         0.1|    Iris-setosa|[5.2,4.1,1.5,0.1]|  0.0|         0|\n",
            "| 34|          5.5|         4.2|          1.4|         0.2|    Iris-setosa|[5.5,4.2,1.4,0.2]|  0.0|         0|\n",
            "| 36|          5.0|         3.2|          1.2|         0.2|    Iris-setosa|[5.0,3.2,1.2,0.2]|  0.0|         0|\n",
            "| 40|          5.1|         3.4|          1.5|         0.2|    Iris-setosa|[5.1,3.4,1.5,0.2]|  0.0|         0|\n",
            "| 43|          4.4|         3.2|          1.3|         0.2|    Iris-setosa|[4.4,3.2,1.3,0.2]|  0.0|         0|\n",
            "| 44|          5.0|         3.5|          1.6|         0.6|    Iris-setosa|[5.0,3.5,1.6,0.6]|  0.0|         0|\n",
            "| 45|          5.1|         3.8|          1.9|         0.4|    Iris-setosa|[5.1,3.8,1.9,0.4]|  0.0|         0|\n",
            "| 52|          6.4|         3.2|          4.5|         1.5|Iris-versicolor|[6.4,3.2,4.5,1.5]|  1.0|         1|\n",
            "| 55|          6.5|         2.8|          4.6|         1.5|Iris-versicolor|[6.5,2.8,4.6,1.5]|  1.0|         1|\n",
            "| 59|          6.6|         2.9|          4.6|         1.3|Iris-versicolor|[6.6,2.9,4.6,1.3]|  1.0|         1|\n",
            "| 66|          6.7|         3.1|          4.4|         1.4|Iris-versicolor|[6.7,3.1,4.4,1.4]|  1.0|         1|\n",
            "| 71|          5.9|         3.2|          4.8|         1.8|Iris-versicolor|[5.9,3.2,4.8,1.8]|  1.0|         1|\n",
            "| 75|          6.4|         2.9|          4.3|         1.3|Iris-versicolor|[6.4,2.9,4.3,1.3]|  1.0|         1|\n",
            "| 80|          5.7|         2.6|          3.5|         1.0|Iris-versicolor|[5.7,2.6,3.5,1.0]|  1.0|         1|\n",
            "| 84|          6.0|         2.7|          5.1|         1.6|Iris-versicolor|[6.0,2.7,5.1,1.6]|  1.0|         1|\n",
            "| 90|          5.5|         2.5|          4.0|         1.3|Iris-versicolor|[5.5,2.5,4.0,1.3]|  1.0|         1|\n",
            "| 92|          6.1|         3.0|          4.6|         1.4|Iris-versicolor|[6.1,3.0,4.6,1.4]|  1.0|         1|\n",
            "| 96|          5.7|         3.0|          4.2|         1.2|Iris-versicolor|[5.7,3.0,4.2,1.2]|  1.0|         1|\n",
            "|102|          5.8|         2.7|          5.1|         1.9| Iris-virginica|[5.8,2.7,5.1,1.9]|  2.0|         1|\n",
            "|105|          6.5|         3.0|          5.8|         2.2| Iris-virginica|[6.5,3.0,5.8,2.2]|  2.0|         2|\n",
            "|108|          7.3|         2.9|          6.3|         1.8| Iris-virginica|[7.3,2.9,6.3,1.8]|  2.0|         2|\n",
            "|109|          6.7|         2.5|          5.8|         1.8| Iris-virginica|[6.7,2.5,5.8,1.8]|  2.0|         2|\n",
            "|111|          6.5|         3.2|          5.1|         2.0| Iris-virginica|[6.5,3.2,5.1,2.0]|  2.0|         2|\n",
            "|116|          6.4|         3.2|          5.3|         2.3| Iris-virginica|[6.4,3.2,5.3,2.3]|  2.0|         2|\n",
            "|117|          6.5|         3.0|          5.5|         1.8| Iris-virginica|[6.5,3.0,5.5,1.8]|  2.0|         2|\n",
            "|121|          6.9|         3.2|          5.7|         2.3| Iris-virginica|[6.9,3.2,5.7,2.3]|  2.0|         2|\n",
            "|124|          6.3|         2.7|          4.9|         1.8| Iris-virginica|[6.3,2.7,4.9,1.8]|  2.0|         1|\n",
            "|128|          6.1|         3.0|          4.9|         1.8| Iris-virginica|[6.1,3.0,4.9,1.8]|  2.0|         1|\n",
            "|134|          6.3|         2.8|          5.1|         1.5| Iris-virginica|[6.3,2.8,5.1,1.5]|  2.0|         1|\n",
            "|138|          6.4|         3.1|          5.5|         1.8| Iris-virginica|[6.4,3.1,5.5,1.8]|  2.0|         2|\n",
            "|144|          6.8|         3.2|          5.9|         2.3| Iris-virginica|[6.8,3.2,5.9,2.3]|  2.0|         2|\n",
            "|146|          6.7|         3.0|          5.2|         2.3| Iris-virginica|[6.7,3.0,5.2,2.3]|  2.0|         2|\n",
            "|147|          6.3|         2.5|          5.0|         1.9| Iris-virginica|[6.3,2.5,5.0,1.9]|  2.0|         1|\n",
            "|150|          5.9|         3.0|          5.1|         1.8| Iris-virginica|[5.9,3.0,5.1,1.8]|  2.0|         1|\n",
            "+---+-------------+------------+-------------+------------+---------------+-----------------+-----+----------+\n",
            "\n"
          ],
          "name": "stdout"
        }
      ]
    },
    {
      "cell_type": "code",
      "metadata": {
        "id": "Hftdld4Xfr4M"
      },
      "source": [
        ""
      ],
      "execution_count": 37,
      "outputs": []
    }
  ]
}
